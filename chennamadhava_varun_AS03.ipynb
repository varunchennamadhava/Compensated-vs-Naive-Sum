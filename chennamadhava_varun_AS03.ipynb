{
 "cells": [
  {
   "cell_type": "code",
   "execution_count": 1,
   "metadata": {
    "scrolled": true
   },
   "outputs": [
    {
     "name": "stdout",
     "output_type": "stream",
     "text": [
      "End Of Program\n",
      "+---------------------+-------------------+-------------------+-------------------+-------------------+\n",
      "|                     |      1000000      |      10000000     |     100000000     |     1000000000    |\n",
      "+---------------------+-------------------+-------------------+-------------------+-------------------+\n",
      "|   Compensated Sum   |   2718281.82846   |   27182818.2846   |   271828182.846   |   2718281828.46   |\n",
      "|      CSum Time      |   0.140191078186  |   1.49977111816   |   14.5517771244   |   420.093775034   |\n",
      "|      Naive Sum      |   2718281.82847   |    27182818.281   |   271828183.313   |   2718281783.99   |\n",
      "|      NSum Time      |  0.0847539901733  |   0.831007003784  |   8.50277400017   |   342.601839066   |\n",
      "|      ExactValue     |   2718281.82846   |   27182818.2846   |   271828182.846   |   2718281828.46   |\n",
      "| CSUM Absolute Error |        0.0        |        0.0        |        0.0        |        0.0        |\n",
      "| CSUM Relative Error |        0.0        |        0.0        |        0.0        |        0.0        |\n",
      "| NSUM Absolute Error | 8.93091782928e-06 |  0.00362931191921 |   0.467011034489  |   44.4705877304   |\n",
      "| NSUM Relative Error | 3.28550106018e-12 | 1.33514924068e-10 | 1.71803758389e-09 | 1.63598149628e-08 |\n",
      "+---------------------+-------------------+-------------------+-------------------+-------------------+\n"
     ]
    }
   ],
   "source": [
    "import math\n",
    "import time\n",
    "from prettytable import PrettyTable\n",
    "\n",
    "def compensatedSum(n):\n",
    "    start_time = time.time()\n",
    "    s = 0\n",
    "    e = 0\n",
    "    for i in range(0,n):\n",
    "        temp = s\n",
    "        y = math.e + e\n",
    "        s = temp + y\n",
    "        e = (temp-s) + y     \n",
    "    s+=e\n",
    "    end_time = time.time()\n",
    "    total_time=end_time - start_time\n",
    "    d = dict();\n",
    "    d['s'] = s;\n",
    "    d['total_time'] = total_time;\n",
    "    return d\n",
    "\n",
    "\n",
    "def naiveSum(n):\n",
    "    start_time = time.time()\n",
    "    s=0\n",
    "    for i in range(0,n):\n",
    "        s += math.e\n",
    "    end_time   = time.time()\n",
    "    total_time = end_time - start_time\n",
    "    d = dict();\n",
    "    d['s'] = s;\n",
    "    d['total_time'] = total_time;\n",
    "    return d\n",
    "\n",
    "def exactValue(n):\n",
    "    return n * math.e\n",
    "\n",
    "def absoluteError(measured, actual):\n",
    "    return abs(measured - actual)\n",
    "\n",
    "def relativeError(absError, actual):\n",
    "    return absError / actual\n",
    "\n",
    "\n",
    "\n",
    "def main():\n",
    "    differentNs = []\n",
    "    differentNs.append(1000000)\n",
    "    differentNs.append(10000000)\n",
    "    differentNs.append(100000000)\n",
    "    differentNs.append(1000000000)\n",
    "    \n",
    "    table = PrettyTable()\n",
    "    table.add_column(\"     \", [\"Compensated Sum\",\"CSum Time\",\"Naive Sum\",\"NSum Time\", \"ExactValue\",\n",
    "                               \"CSUM Absolute Error\",\"CSUM Relative Error\", \"NSUM Absolute Error\", \"NSUM Relative Error\"])\n",
    "    for x in range(0,4):\n",
    "        summation = differentNs[x]\n",
    "        compensatedSumLocal = compensatedSum(differentNs[x])['s']\n",
    "        compensatedSumTimeLocal = compensatedSum(differentNs[x])['total_time']\n",
    "        naiveSumLocal = naiveSum(differentNs[x])['s']\n",
    "        naiveSumTimeLocal = naiveSum(differentNs[x])['total_time']\n",
    "        exactValueLocal =  exactValue(differentNs[x])\n",
    "        absoluteErrorCSUMLocal = absoluteError(compensatedSumLocal, exactValueLocal)\n",
    "        absoluteErrorNSUMLocal = absoluteError(naiveSumLocal, exactValueLocal)\n",
    "        relativeErrorCSUMLocal = relativeError(absoluteErrorCSUMLocal, exactValueLocal)\n",
    "        relativeErrorNSUMLocal = relativeError(absoluteErrorNSUMLocal, exactValueLocal)\n",
    "        \n",
    "        table.add_column(str(summation), [str(compensatedSumLocal),\n",
    "                                          str(compensatedSumTimeLocal),\n",
    "                                          str(naiveSumLocal),\n",
    "                                          str(naiveSumTimeLocal),\n",
    "                                          str(exactValueLocal),\n",
    "                                          str(absoluteErrorCSUMLocal),\n",
    "                                          str(relativeErrorCSUMLocal ),\n",
    "                                          str(absoluteErrorNSUMLocal),\n",
    "                                          str(relativeErrorNSUMLocal)])\n",
    "\n",
    "    print(\"End Of Program\")\n",
    "    print(table)\n",
    "        \n",
    "main()\n",
    "    \n",
    "\n"
   ]
  },
  {
   "cell_type": "markdown",
   "metadata": {},
   "source": [
    "## Analysis\n",
    "\n",
    "After running the tests on summation for e using compensated and naive summation methods, I saw that there were errors in naive summation. The compensated summation method was more realiable but it came in the cost of time. The naive summation method was much quicker and it took about half the time. Although it was 0.5 away when finding the summation of n = 10^8, when it was n = 10^9, the error was 44. The errors were increasing at a very rapid rate when using bigger numbers in naive summation. The error for compensated summation was 0 which is good when wanting precise answers but don't expect it to get the job done fast. One final thing I want to mention is that it these errors are consistent with what we went over in class and posted in classroom presentations.\n",
    "  "
   ]
  },
  {
   "cell_type": "code",
   "execution_count": null,
   "metadata": {},
   "outputs": [],
   "source": []
  },
  {
   "cell_type": "code",
   "execution_count": null,
   "metadata": {},
   "outputs": [],
   "source": []
  },
  {
   "cell_type": "code",
   "execution_count": null,
   "metadata": {},
   "outputs": [],
   "source": []
  },
  {
   "cell_type": "code",
   "execution_count": null,
   "metadata": {},
   "outputs": [],
   "source": []
  }
 ],
 "metadata": {
  "kernelspec": {
   "display_name": "Python 2",
   "language": "python",
   "name": "python2"
  },
  "language_info": {
   "codemirror_mode": {
    "name": "ipython",
    "version": 2
   },
   "file_extension": ".py",
   "mimetype": "text/x-python",
   "name": "python",
   "nbconvert_exporter": "python",
   "pygments_lexer": "ipython2",
   "version": "2.7.15"
  }
 },
 "nbformat": 4,
 "nbformat_minor": 2
}
